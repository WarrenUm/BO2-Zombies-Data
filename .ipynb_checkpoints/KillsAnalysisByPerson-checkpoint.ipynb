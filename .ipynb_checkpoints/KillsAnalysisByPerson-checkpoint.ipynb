{
 "cells": [
  {
   "cell_type": "code",
   "execution_count": 1,
   "metadata": {},
   "outputs": [],
   "source": [
    "import pandas as pd\n",
    "import numpy as np\n",
    "import matplotlib.pyplot as plt\n",
    "import math\n",
    "import seaborn as sns\n",
    "import scipy.stats as stats"
   ]
  },
  {
   "cell_type": "code",
   "execution_count": 2,
   "metadata": {},
   "outputs": [],
   "source": [
    "#Im looking to compare the number of kills per person and see if there is a significant difference between them"
   ]
  },
  {
   "cell_type": "code",
   "execution_count": 3,
   "metadata": {},
   "outputs": [],
   "source": [
    "#First I'm going to read in each table that I created before and pull out just the kill data\n",
    "names = ['dow','perry','thornton']\n",
    "\n",
    "dow = pd.read_csv('data/dow_zombie_stats')\n",
    "thornton = pd.read_csv('data/perry_zombie_stats')\n",
    "perry = pd.read_csv('data/thornton_zombie_stats')"
   ]
  },
  {
   "cell_type": "code",
   "execution_count": 5,
   "metadata": {},
   "outputs": [],
   "source": [
    "dow.drop(columns='Unnamed: 0',inplace=True)\n",
    "perry.drop(columns='Unnamed: 0',inplace=True)\n",
    "thornton.drop(columns='Unnamed: 0',inplace=True)"
   ]
  },
  {
   "cell_type": "code",
   "execution_count": 9,
   "metadata": {},
   "outputs": [],
   "source": [
    "#pullout just the kill data\n",
    "dow_kills = dow['kills']\n",
    "perry_kills = perry['kills']\n",
    "thornton_kills = thornton['kills']"
   ]
  },
  {
   "cell_type": "code",
   "execution_count": 10,
   "metadata": {},
   "outputs": [
    {
     "data": {
      "text/plain": [
       "0      33\n",
       "1     198\n",
       "2      64\n",
       "3      38\n",
       "4      66\n",
       "5      70\n",
       "6     116\n",
       "7      62\n",
       "8     188\n",
       "9      47\n",
       "10     78\n",
       "11     85\n",
       "12    268\n",
       "13    126\n",
       "14    254\n",
       "15     77\n",
       "16    229\n",
       "17     81\n",
       "18     69\n",
       "19     81\n",
       "20      5\n",
       "21    159\n",
       "22     67\n",
       "23     61\n",
       "24    123\n",
       "25     74\n",
       "26     96\n",
       "27     47\n",
       "28     71\n",
       "29    124\n",
       "30    172\n",
       "31    206\n",
       "32    214\n",
       "33     90\n",
       "34    475\n",
       "Name: kills, dtype: int64"
      ]
     },
     "execution_count": 10,
     "metadata": {},
     "output_type": "execute_result"
    }
   ],
   "source": [
    "dow_kills"
   ]
  },
  {
   "cell_type": "code",
   "execution_count": null,
   "metadata": {},
   "outputs": [],
   "source": []
  }
 ],
 "metadata": {
  "kernelspec": {
   "display_name": "learn-env",
   "language": "python",
   "name": "learn-env"
  },
  "language_info": {
   "codemirror_mode": {
    "name": "ipython",
    "version": 3
   },
   "file_extension": ".py",
   "mimetype": "text/x-python",
   "name": "python",
   "nbconvert_exporter": "python",
   "pygments_lexer": "ipython3",
   "version": "3.8.5"
  }
 },
 "nbformat": 4,
 "nbformat_minor": 4
}
