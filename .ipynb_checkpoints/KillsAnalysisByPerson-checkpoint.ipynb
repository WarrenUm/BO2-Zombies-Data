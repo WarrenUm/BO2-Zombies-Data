{
 "cells": [
  {
   "cell_type": "markdown",
   "metadata": {},
   "source": [
    "### Is there a difference in the number of kills that each player gets per round?\n",
    "\n",
    "I am going to use a t test with a significance level of 0.05 to see if there is a difference between players.\n",
    "First, I read in the data and then plot the kills using a histogram. Then, I perform three t tests to compare each player to the others."
   ]
  },
  {
   "cell_type": "code",
   "execution_count": 1,
   "metadata": {},
   "outputs": [],
   "source": [
    "import pandas as pd\n",
    "import numpy as np\n",
    "import matplotlib.pyplot as plt\n",
    "import math\n",
    "import seaborn as sns\n",
    "import scipy.stats as stats\n",
    "plt.style.use('fivethirtyeight')"
   ]
  },
  {
   "cell_type": "code",
   "execution_count": 3,
   "metadata": {},
   "outputs": [],
   "source": [
    "#First I'm going to read in each table that I created before and pull out just the kill data\n",
    "names = ['dow','perry','thornton']\n",
    "\n",
    "dow = pd.read_csv('data/dow_zombie_stats',index_col=0)\n",
    "perry = pd.read_csv('data/perry_zombie_stats',index_col=0)\n",
    "thornton = pd.read_csv('data/thornton_zombie_stats',index_col=0)"
   ]
  },
  {
   "cell_type": "code",
   "execution_count": 4,
   "metadata": {},
   "outputs": [],
   "source": [
    "#pullout just the kill data\n",
    "dow_kills = dow['kills'].values\n",
    "perry_kills = perry['kills'].values\n",
    "thornton_kills = thornton['kills'].values"
   ]
  },
  {
   "cell_type": "markdown",
   "metadata": {},
   "source": [
    "This plot shows the occurances of kills per round."
   ]
  },
  {
   "cell_type": "code",
   "execution_count": 12,
   "metadata": {},
   "outputs": [
    {
     "data": {
      "text/plain": [
       "<matplotlib.legend.Legend at 0x256108e19d0>"
      ]
     },
     "execution_count": 12,
     "metadata": {},
     "output_type": "execute_result"
    },
    {
     "data": {
      "image/png": "[encoded data removed]",
      "text/plain": [
       "<Figure size 432x288 with 1 Axes>"
      ]
     },
     "metadata": {},
     "output_type": "display_data"
    }
   ],
   "source": [
    "#plot\n",
    "plt.hist(dow.kills,alpha=0.2,color='blue')\n",
    "plt.hist(perry.kills,alpha=0.2,color='red')\n",
    "plt.hist(thornton.kills,alpha=0.2,color='green');\n",
    "\n",
    "plt.title('Kills per Round Frequency')\n",
    "plt.xlabel('Kills per Round')\n",
    "plt.ylabel('Frequency')\n",
    "plt.legend(['Dow','Perry','Thornton'])"
   ]
  },
  {
   "cell_type": "markdown",
   "metadata": {},
   "source": [
    "Calculate the mean kills per round for each player so we can get a sense of the data.\n",
    "It looks like there is a difference compared to Thornton, but it is harder to tell between Dow and Perry."
   ]
  },
  {
   "cell_type": "code",
   "execution_count": 6,
   "metadata": {},
   "outputs": [
    {
     "name": "stdout",
     "output_type": "stream",
     "text": [
      "The mean number of kills are: \n",
      "Dow: 120.4 \n",
      "Perry: 127.8 \n",
      "Thornton: 67.8 \n"
     ]
    }
   ],
   "source": [
    "#first look at the mean number of kills\n",
    "print(f'The mean number of kills are: \\nDow: {dow_kills.mean()} \\nPerry: {perry_kills.mean()} \\nThornton: {thornton_kills.mean()} ')"
   ]
  },
  {
   "cell_type": "markdown",
   "metadata": {},
   "source": [
    "Next up are the t tests. The first compares Dow and Perry, the second is Dow and Thornton, and the third is Thornton and Perry."
   ]
  },
  {
   "cell_type": "code",
   "execution_count": 7,
   "metadata": {},
   "outputs": [
    {
     "name": "stdout",
     "output_type": "stream",
     "text": [
      "The p value is greater than the significance. There is no statistical difference between players kills\n"
     ]
    }
   ],
   "source": [
    "#ttest\n",
    "#dow vs perry\n",
    "alpha = 0.05\n",
    "result = stats.ttest_ind(dow_kills,perry_kills)\n",
    "t = result[0]\n",
    "p = result[1]\n",
    "t,p\n",
    "if p < alpha:\n",
    "    print(f'The p value is less than the significance. There is a statistical difference between players kills ')\n",
    "else:\n",
    "    print('The p value is greater than the significance. There is no statistical difference between players kills')"
   ]
  },
  {
   "cell_type": "code",
   "execution_count": 8,
   "metadata": {},
   "outputs": [
    {
     "name": "stdout",
     "output_type": "stream",
     "text": [
      "The p value is less than the significance. There is a statistical difference between players kills \n"
     ]
    }
   ],
   "source": [
    "#dow vs thornton\n",
    "alpha = 0.05\n",
    "result = stats.ttest_ind(dow_kills,thornton_kills)\n",
    "t = result[0]\n",
    "p = result[1]\n",
    "t,p\n",
    "if p < alpha:\n",
    "    print(f'The p value is less than the significance. There is a statistical difference between players kills ')\n",
    "else:\n",
    "    print('The p value is greater than the significance. There is no statistical difference between players kills')"
   ]
  },
  {
   "cell_type": "code",
   "execution_count": 9,
   "metadata": {},
   "outputs": [
    {
     "name": "stdout",
     "output_type": "stream",
     "text": [
      "The p value is less than the significance. There is a statistical difference between players kills \n"
     ]
    }
   ],
   "source": [
    "#perry vs thornton\n",
    "alpha = 0.05\n",
    "result = stats.ttest_ind(thornton_kills,perry_kills)\n",
    "t = result[0]\n",
    "p = result[1]\n",
    "t,p\n",
    "if p < alpha:\n",
    "    print(f'The p value is less than the significance. There is a statistical difference between players kills ')\n",
    "else:\n",
    "    print('The p value is greater than the significance. There is no statistical difference between players kills')"
   ]
  },
  {
   "cell_type": "markdown",
   "metadata": {},
   "source": [
    "With a significance level of 0.05, no significant difference was found between Dow and Perry's performance. Dow and Perry do outperform Thornton."
   ]
  },
  {
   "cell_type": "code",
   "execution_count": null,
   "metadata": {},
   "outputs": [],
   "source": []
  }
 ],
 "metadata": {
  "kernelspec": {
   "display_name": "learn-env",
   "language": "python",
   "name": "learn-env"
  },
  "language_info": {
   "codemirror_mode": {
    "name": "ipython",
    "version": 3
   },
   "file_extension": ".py",
   "mimetype": "text/x-python",
   "name": "python",
   "nbconvert_exporter": "python",
   "pygments_lexer": "ipython3",
   "version": "3.8.5"
  }
 },
 "nbformat": 4,
 "nbformat_minor": 4
}
