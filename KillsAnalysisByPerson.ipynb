{
 "cells": [
  {
   "cell_type": "code",
   "execution_count": 1,
   "metadata": {},
   "outputs": [],
   "source": [
    "import pandas as pd\n",
    "import numpy as np\n",
    "import matplotlib.pyplot as plt\n",
    "import math\n",
    "import seaborn as sns\n",
    "import scipy.stats as stats"
   ]
  },
  {
   "cell_type": "code",
   "execution_count": 2,
   "metadata": {},
   "outputs": [],
   "source": [
    "#Im looking to compare the number of kills per person and see if there is a significant difference between them"
   ]
  },
  {
   "cell_type": "code",
   "execution_count": 3,
   "metadata": {},
   "outputs": [],
   "source": [
    "#First I'm going to read in each table that I created before and pull out just the kill data\n",
    "names = ['dow','perry','thornton']\n",
    "\n",
    "dow = pd.read_csv('data/dow_zombie_stats')\n",
    "perry = pd.read_csv('data/perry_zombie_stats')\n",
    "thornton = pd.read_csv('data/thornton_zombie_stats')"
   ]
  },
  {
   "cell_type": "code",
   "execution_count": 4,
   "metadata": {},
   "outputs": [],
   "source": [
    "dow.drop(columns='Unnamed: 0',inplace=True)\n",
    "perry.drop(columns='Unnamed: 0',inplace=True)\n",
    "thornton.drop(columns='Unnamed: 0',inplace=True)"
   ]
  },
  {
   "cell_type": "code",
   "execution_count": 5,
   "metadata": {},
   "outputs": [],
   "source": [
    "#pullout just the kill data\n",
    "dow_kills = dow['kills'].values\n",
    "perry_kills = perry['kills'].values\n",
    "thornton_kills = thornton['kills'].values"
   ]
  },
  {
   "cell_type": "code",
   "execution_count": 6,
   "metadata": {},
   "outputs": [
    {
     "name": "stdout",
     "output_type": "stream",
     "text": [
      "The mean number of kills are: \n",
      "Dow: 120.4 \n",
      "Perry: 127.8 \n",
      "Thornton: 67.8 \n"
     ]
    }
   ],
   "source": [
    "#first look at the mean number of kills\n",
    "print(f'The mean number of kills are: \\nDow: {dow_kills.mean()} \\nPerry: {perry_kills.mean()} \\nThornton: {thornton_kills.mean()} ')"
   ]
  },
  {
   "cell_type": "code",
   "execution_count": 11,
   "metadata": {},
   "outputs": [
    {
     "name": "stdout",
     "output_type": "stream",
     "text": [
      "The p value is greater than the significance. There is no statistical difference between players kills\n"
     ]
    }
   ],
   "source": [
    "#ttest\n",
    "#dow vs perry\n",
    "alpha = 0.05\n",
    "result = stats.ttest_ind(dow_kills,perry_kills)\n",
    "t = result[0]\n",
    "p = result[1]\n",
    "t,p\n",
    "if p < alpha:\n",
    "    print(f'The p value is less than the significance. There is a statistical difference between players kills ')\n",
    "else:\n",
    "    print('The p value is greater than the significance. There is no statistical difference between players kills')"
   ]
  },
  {
   "cell_type": "code",
   "execution_count": 12,
   "metadata": {},
   "outputs": [
    {
     "name": "stdout",
     "output_type": "stream",
     "text": [
      "The p value is less than the significance. There is a statistical difference between players kills \n"
     ]
    }
   ],
   "source": [
    "#dow vs thornton\n",
    "alpha = 0.05\n",
    "result = stats.ttest_ind(dow_kills,thornton_kills)\n",
    "t = result[0]\n",
    "p = result[1]\n",
    "t,p\n",
    "if p < alpha:\n",
    "    print(f'The p value is less than the significance. There is a statistical difference between players kills ')\n",
    "else:\n",
    "    print('The p value is greater than the significance. There is no statistical difference between players kills')"
   ]
  },
  {
   "cell_type": "code",
   "execution_count": 13,
   "metadata": {},
   "outputs": [
    {
     "name": "stdout",
     "output_type": "stream",
     "text": [
      "The p value is less than the significance. There is a statistical difference between players kills \n"
     ]
    }
   ],
   "source": [
    "#perry vs thornton\n",
    "alpha = 0.05\n",
    "result = stats.ttest_ind(thornton_kills,perry_kills)\n",
    "t = result[0]\n",
    "p = result[1]\n",
    "t,p\n",
    "if p < alpha:\n",
    "    print(f'The p value is less than the significance. There is a statistical difference between players kills ')\n",
    "else:\n",
    "    print('The p value is greater than the significance. There is no statistical difference between players kills')"
   ]
  },
  {
   "cell_type": "code",
   "execution_count": null,
   "metadata": {},
   "outputs": [],
   "source": []
  }
 ],
 "metadata": {
  "kernelspec": {
   "display_name": "Python 3",
   "language": "python",
   "name": "python3"
  },
  "language_info": {
   "codemirror_mode": {
    "name": "ipython",
    "version": 3
   },
   "file_extension": ".py",
   "mimetype": "text/x-python",
   "name": "python",
   "nbconvert_exporter": "python",
   "pygments_lexer": "ipython3",
   "version": "3.8.5"
  }
 },
 "nbformat": 4,
 "nbformat_minor": 4
}
